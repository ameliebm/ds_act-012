{
 "cells": [
  {
   "cell_type": "code",
   "execution_count": 4,
   "metadata": {},
   "outputs": [
    {
     "ename": "SyntaxError",
     "evalue": "invalid syntax (<ipython-input-4-2ed9592331af>, line 5)",
     "output_type": "error",
     "traceback": [
      "\u001b[1;36m  File \u001b[1;32m\"<ipython-input-4-2ed9592331af>\"\u001b[1;36m, line \u001b[1;32m5\u001b[0m\n\u001b[1;33m    * Para poder realizar esta actividad debes haber revisado la lectura correspondiente a la semana.\u001b[0m\n\u001b[1;37m               ^\u001b[0m\n\u001b[1;31mSyntaxError\u001b[0m\u001b[1;31m:\u001b[0m invalid syntax\n"
     ]
    }
   ],
   "source": [
    "![alttext](logo.png)\n",
    "\n",
    "# Unidad: Clasificación - Sesión 2\n",
    "\n",
    "* Para poder realizar esta actividad debes haber revisado la lectura correspondiente a la semana.\n",
    "* Crea una carpeta de trabajo y guarda todos los archivos correspondientes (notebook y csv).\n",
    "* Una vez terminada la actividad, comprime la carpeta y sube el `.zip` a la sección correspondiente.\n",
    "\n",
    "## Descripción de Actividades\n",
    "\n",
    "* En esta sesión trabajaremos con una base de datos sobre clientes morosos de un banco. Dentro de ésta se registran las siguientes observaciones:\n",
    "\n",
    "1. `default`: Variable binaria. Registra si el cliente entró en morosidad o no.\n",
    "- `income`: Ingreso promedio declarado por el cliente.\n",
    "- `balance`: Total de saldo en la cuenta de crédito.\n",
    "- `student`: Variable binaria. Registra si el cliente es estudiante o no.\n",
    "\n",
    "\n",
    "## Ejercicio 1: Preparación del ambiente de trabajo\n",
    "\n",
    "* Importe los módulos básicos para el análisis de datos\n",
    "* Importe `seaborn`.\n",
    "* Importe `statsmodels`\n",
    "* Importe `LogisticRegression`, `train_test_split`, `StandardScaler`, `classification_report` y `roc_curve` de `sklearn`\n",
    "\n",
    "## Ejercicio 2: Análisis exploratorio\n",
    "\n",
    "* Explore las principales relaciones entre las variables. Utilizando los métodos `boxplot` y `lmplot` de `seaborn` implemente los siguientes gráficos.\n",
    "\n",
    "    * Un boxplot del balance total de las cuentas, segmentado por el status de estudiante.\n",
    "    * Un boxplot del ingreso total de cada cliente, segmentado por el status de estudiante.\n",
    "    * Un boxplot del balance total de las cuentas, segmentado por el status de default.\n",
    "    * Un boxplot del ingreso total de cada cliente, segmentado por el status de default.\n",
    "    * Un diagrama de dispersión entre `balance` e `income`, segmentado por el status de estudiante.\n",
    "    * Un diagrama de dispersión entre `balance` e `income`, segmentado por el status de default.\n",
    "\n",
    "* Comente brevemente sobre los principales patrones de comportamiento.\n",
    "* _tip_: Puede utilizar el argumento `hue` en `lmplot` para identificar las observaciones por status.\n",
    "\n",
    "\n",
    "\n",
    "## Ejercicio 3: Modelación econométrica\n",
    "\n",
    "* Recodifique las variables `student` y `default` para que adquieran atributos numéricos.\n",
    "* Implemente el siguiente modelo econométrico:\n",
    "\n",
    "![](eq1.gif)\n",
    "\n",
    "* A partir de este modelo, depúrelo y mantenga las principales características. Ejecute de nuevo el modelo y comente brevemente sobre el comportamiento de los atributos.\n",
    "\n",
    "\n",
    "\n",
    "## Ejercicio 4: Entrenar\n",
    "\n",
    "* A partir del modelo depurado, genere un modelo predictivo con las siguientes características:\n",
    "\n",
    "\n",
    "1. Estandarize la matriz de atributos.\n",
    "- Genere subconjuntos de entrenamiento y validación, separando el 33% de la muestra en el conjunto de validación.\n",
    "- Implemente el modelo sin alterar los hiperparámetros.\n",
    "- Genere la predicción de las clases y de la probabilidad.\n",
    "- Reporte las métricas de precision, recall y f1 para ambas clases.\n",
    "- Grafique la curva Receiver Operator Characteristic.\n",
    "\n",
    "* En base a los pasos, comente sobre el desempeño predictivo del modelo.\n"
   ]
  },
  {
   "cell_type": "code",
   "execution_count": 5,
   "metadata": {},
   "outputs": [
    {
     "name": "stderr",
     "output_type": "stream",
     "text": [
      "\"[alttext]\" no se reconoce como un comando interno o externo,\n",
      "programa o archivo por lotes ejecutable.\n"
     ]
    }
   ],
   "source": [
    "![alttext](logo.png)"
   ]
  },
  {
   "cell_type": "code",
   "execution_count": 6,
   "metadata": {},
   "outputs": [
    {
     "name": "stderr",
     "output_type": "stream",
     "text": [
      "\"[alttext]\" no se reconoce como un comando interno o externo,\n",
      "programa o archivo por lotes ejecutable.\n"
     ]
    }
   ],
   "source": [
    "![alttext](logo.png)\n"
   ]
  },
  {
   "cell_type": "code",
   "execution_count": null,
   "metadata": {},
   "outputs": [],
   "source": []
  }
 ],
 "metadata": {
  "kernelspec": {
   "display_name": "Python 3",
   "language": "python",
   "name": "python3"
  },
  "language_info": {
   "codemirror_mode": {
    "name": "ipython",
    "version": 3
   },
   "file_extension": ".py",
   "mimetype": "text/x-python",
   "name": "python",
   "nbconvert_exporter": "python",
   "pygments_lexer": "ipython3",
   "version": "3.6.5"
  }
 },
 "nbformat": 4,
 "nbformat_minor": 2
}
